{
 "cells": [
  {
   "cell_type": "markdown",
   "metadata": {},
   "source": [
    "# Assignment 1 Report"
   ]
  },
  {
   "cell_type": "markdown",
   "metadata": {},
   "source": [
    "This is an outline for your report to ease the amount of work required to create your report. Jupyter notebook supports markdown, and I recommend you to check out this [cheat sheet](https://github.com/adam-p/markdown-here/wiki/Markdown-Cheatsheet). If you are not familiar with markdown.\n",
    "\n",
    "Before delivery, **remember to convert this file to PDF**. You can do it in two ways:\n",
    "1. Print the webpage (ctrl+P or cmd+P)\n",
    "2. Export with latex. This is somewhat more difficult, but you'll get somehwat of a \"prettier\" PDF. Go to File -> Download as -> PDF via LaTeX. You might have to install nbconvert and pandoc through conda; `conda install nbconvert pandoc`."
   ]
  },
  {
   "cell_type": "markdown",
   "metadata": {},
   "source": [
    "# Task 1"
   ]
  },
  {
   "cell_type": "markdown",
   "metadata": {},
   "source": [
    "## task 1a)\n",
    "\n",
    "$$\n",
    "\\frac{\\partial C^n}{\\partial w_i} =  - \\frac{\\partial}{\\partial w_i}(y^n \\ln(\\hat y^n) + (1 - y^n)\\ln(1-\\hat y^n)) = - y^n \\frac{\\partial}{\\partial w_i} (\\ln(\\hat y^n)) - (1 - y^n) \\frac{\\partial}{\\partial w_i}(\\ln(1-\\hat y^n)))\n",
    "$$\n",
    "\n",
    "$$\n",
    "= - (\\frac{y^n}{\\hat y^n} - \\frac{1-y^n}{1-\\hat y^n})\\frac{\\partial \\hat y^n}{\\partial w_i} = - \\left(\\frac{y^n - \\hat y^n}{\\hat y^n (1- \\hat y^n)}\\right) \\frac{\\partial \\hat y^n}{\\partial w_i}\n",
    "$$\n",
    "\n",
    "$$\n",
    "\\frac{\\partial}{\\partial z} \\frac{1}{1 + e^z} = -(1 + e^z)^{-2} e^z\n",
    "$$\n",
    "\n",
    "$$\n",
    "\\frac{\\partial \\hat y^n}{\\partial w_i} = \\frac{\\partial}{\\partial w_i} \\frac{1}{1 + e^{-w^T x}} = -(1 + e^{-w^T x})^{-2} e^{-w^T x} \\frac{\\partial}{\\partial w_i} (-w^T x) = - (\\hat y^n)^2 (\\frac{1}{\\hat y^n} - 1) (-x_i) = \\hat y^n (1 - \\hat y^n)x_i\n",
    "$$\n",
    "\n",
    "$$\n",
    "\\frac{\\partial C^n}{\\partial w_i} = - \\left(\\frac{y^n - \\hat y^n}{\\hat y^n (1- \\hat y^n)}\\right) \\frac{\\partial \\hat y^n}{\\partial w_i} = - \\left(\\frac{y^n - \\hat y^n}{\\hat y^n (1- \\hat y^n)}\\right) \\hat y^n (1 - \\hat y^n)x_i = - (y^n - \\hat y^n) x_i\n",
    "$$"
   ]
  },
  {
   "cell_type": "markdown",
   "metadata": {},
   "source": [
    "## task 1b)\n",
    "$$\n",
    "\\frac{\\partial C^n}{\\partial w_{kj}} =  -\\frac{\\partial}{\\partial w_{kj}} \\sum_{i=1}^K y^n_i \\ln(\\hat y^n_i) = - \\sum_{i=1}^K \\frac{y^n_i}{\\hat y^n_i} \\frac{\\partial \\hat y^n_i}{\\partial w_{kj}} = - \\sum_{i=1}^K \\frac{y^n_i}{\\hat y^n_i} \\frac{\\partial \\hat y^n_i}{\\partial \\hat y^n_k} \\frac{\\partial \\hat y^n_k}{\\partial z_k} \\frac{\\partial z_k}{\\partial w_{kj}}\n",
    "$$\n",
    "\n",
    "$$\n",
    "\\frac{\\partial \\hat y^n_i}{\\partial \\hat y^n_k} = \\begin{cases} 1, i=k \\\\ 0, \\text{otherwise}\\end{cases} \\implies - \\sum_{i=1}^K \\frac{y^n_i}{\\hat y^n_i} \\frac{\\partial \\hat y^n_i}{\\partial \\hat y^n_k} \\frac{\\partial \\hat y^n_k}{\\partial z_k} \\frac{\\partial z_k}{\\partial w_{kj}} = -  \\frac{y^n_k}{\\hat y^n_k} \\frac{\\partial \\hat y^n_k}{\\partial z_k} \\frac{\\partial z_k}{\\partial w_{kj}}\n",
    "$$\n",
    "\n",
    "$$\n",
    "\\frac{\\partial \\hat y^n_k}{\\partial z_k} = \\frac{\\partial}{\\partial z_k} \\frac{e^{z_k}}{\\sum_{k'=1}^K e^{z_{k'}}} =  \\frac{1}{\\sum_{k'=1}^K e^{z_{k'}}} \\frac{\\partial}{\\partial z_k} (e^{z_k})  +  e^{z_k} \\frac{\\partial}{\\partial z_k}\\left(\\sum_{k'=1}^K e^{z_{k'}}\\right)^{-1}\n",
    "$$\n",
    "\n",
    "$$\n",
    "=  \\frac{e^{z_k}}{\\sum_{k'=1}^K e^{z_{k'}}}  +  e^{z_k} (-1) \\left(\\sum_{k'=1}^K e^{z_{k'}}\\right)^{-2} e^{z_k} = \\frac{e^{z_k}}{\\sum_{k'=1}^K e^{z_{k'}}} \\left(1 - \\frac{e^{z_k}}{\\sum_{k'=1}^K e^{z_{k'}}} \\right) = \\hat y^n_k(1-\\hat y^n_k)\n",
    "$$\n",
    "\n",
    "$$\n",
    " \\frac{\\partial z_k}{\\partial w_{kj}} = x_j\n",
    "$$\n",
    "\n",
    "$$\n",
    "\\frac{\\partial C^n}{\\partial w_{kj}} =  -  \\frac{y^n_k}{\\hat y^n_k} \\frac{\\partial \\hat y^n_k}{\\partial z_k} \\frac{\\partial z_k}{\\partial w_{kj}} =  -  \\frac{y^n_k}{\\hat y^n_k} \\hat y^n_k(1-\\hat y^n_k) x_j = - y^n_k(1-\\hat y^n_k) x_j\n",
    "$$\n"
   ]
  },
  {
   "cell_type": "markdown",
   "metadata": {},
   "source": [
    "# Task 2"
   ]
  },
  {
   "cell_type": "markdown",
   "metadata": {},
   "source": [
    "## Task 2b)\n",
    "![](task2b_binary_train_loss.png)"
   ]
  },
  {
   "cell_type": "markdown",
   "metadata": {},
   "source": [
    "## Task 2c)\n",
    "![](task2b_binary_train_accuracy.png)"
   ]
  },
  {
   "cell_type": "markdown",
   "metadata": {},
   "source": [
    "## Task 2d)\n",
    "FILL IN ANSWER"
   ]
  },
  {
   "cell_type": "markdown",
   "metadata": {},
   "source": [
    "## Task 2e)\n",
    "FILL IN ANSWER\n",
    "![](task2e_train_accuracy_shuffle_difference.png)"
   ]
  },
  {
   "cell_type": "markdown",
   "metadata": {},
   "source": [
    "# Task 3"
   ]
  },
  {
   "cell_type": "markdown",
   "metadata": {},
   "source": [
    "## Task 3b)\n",
    "![](task3b_softmax_train_loss.png)"
   ]
  },
  {
   "cell_type": "markdown",
   "metadata": {},
   "source": [
    "## Task 3c)\n",
    "![](task3b_softmax_train_accuracy.png)"
   ]
  },
  {
   "cell_type": "markdown",
   "metadata": {},
   "source": [
    "## Task 3d)\n",
    "FILL IN ANSWER"
   ]
  },
  {
   "cell_type": "markdown",
   "metadata": {},
   "source": [
    "# Task 4"
   ]
  },
  {
   "cell_type": "markdown",
   "metadata": {},
   "source": [
    "## Task 4a)\n",
    "\n",
    "Fill in image of hand-written notes which are easy to read, or latex equations here"
   ]
  },
  {
   "cell_type": "markdown",
   "metadata": {},
   "source": [
    "## Task 4b)\n",
    "FILL IN ANSWER\n",
    "\n",
    "![](task4b_softmax_weight.png)"
   ]
  },
  {
   "cell_type": "markdown",
   "metadata": {},
   "source": [
    "## Task 4c)\n",
    "FILL IN ANSWER\n",
    "\n",
    "![](task4c_l2_reg_accuracy.png)"
   ]
  },
  {
   "cell_type": "markdown",
   "metadata": {},
   "source": [
    "## Task 4d)\n",
    "![](task4d_l2_reg_norms.png)"
   ]
  },
  {
   "cell_type": "markdown",
   "metadata": {},
   "source": [
    "## Task 4e)\n",
    "FILL IN ANSWER"
   ]
  }
 ],
 "metadata": {
  "kernelspec": {
   "display_name": "Python 3.8.1 64-bit ('py38': conda)",
   "language": "python",
   "name": "python38164bitpy38condac1f68ca5407a4349b0d7e37676f2fbb3"
  },
  "language_info": {
   "codemirror_mode": {
    "name": "ipython",
    "version": 3
   },
   "file_extension": ".py",
   "mimetype": "text/x-python",
   "name": "python",
   "nbconvert_exporter": "python",
   "pygments_lexer": "ipython3",
   "version": "3.8.1"
  }
 },
 "nbformat": 4,
 "nbformat_minor": 4
}
